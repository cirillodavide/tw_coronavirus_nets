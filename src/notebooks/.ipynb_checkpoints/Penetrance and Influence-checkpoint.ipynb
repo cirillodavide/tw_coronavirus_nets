{
 "cells": [
  {
   "cell_type": "code",
   "execution_count": 207,
   "metadata": {},
   "outputs": [],
   "source": [
    "from __future__ import division\n",
    "\n",
    "import pandas as pd\n",
    "import networkx as nx\n",
    "import tqdm as tqdm\n",
    "import numpy as np\n",
    "import re\n",
    "\n",
    "from itertools import combinations\n",
    "from collections import defaultdict"
   ]
  },
  {
   "cell_type": "code",
   "execution_count": 156,
   "metadata": {},
   "outputs": [],
   "source": [
    "retweets = '../../sna/graphs/davide_es_tweets_retweets_040720.csv'\n",
    "replies = '../../sna/graphs/davide_es_tweets_replies_040720.csv'\n",
    "quotes = '../../sna/graphs/davide_es_tweets_quotes_040720.csv'\n",
    "stats = '../../sna/graphs/davide_es_tweets_stats_040720.csv'\n",
    "\n",
    "df_stats = pd.read_csv(stats)\n",
    "df_retweets = pd.read_csv(retweets)\n",
    "df_quotes = pd.read_csv(quotes)\n",
    "df_replies = pd.read_csv(replies)"
   ]
  },
  {
   "cell_type": "code",
   "execution_count": 157,
   "metadata": {},
   "outputs": [
    {
     "data": {
      "text/html": [
       "<div>\n",
       "<style scoped>\n",
       "    .dataframe tbody tr th:only-of-type {\n",
       "        vertical-align: middle;\n",
       "    }\n",
       "\n",
       "    .dataframe tbody tr th {\n",
       "        vertical-align: top;\n",
       "    }\n",
       "\n",
       "    .dataframe thead th {\n",
       "        text-align: right;\n",
       "    }\n",
       "</style>\n",
       "<table border=\"1\" class=\"dataframe\">\n",
       "  <thead>\n",
       "    <tr style=\"text-align: right;\">\n",
       "      <th></th>\n",
       "      <th>retweeted_user_screen_name</th>\n",
       "      <th>followers_count</th>\n",
       "      <th>retweeting_users_count</th>\n",
       "      <th>interactor_ratio</th>\n",
       "    </tr>\n",
       "  </thead>\n",
       "  <tbody>\n",
       "    <tr>\n",
       "      <th>198934</th>\n",
       "      <td>e_GA1957</td>\n",
       "      <td>119.0</td>\n",
       "      <td>234</td>\n",
       "      <td>0.293669</td>\n",
       "    </tr>\n",
       "    <tr>\n",
       "      <th>303304</th>\n",
       "      <td>New_Mode_</td>\n",
       "      <td>9.0</td>\n",
       "      <td>16</td>\n",
       "      <td>0.249877</td>\n",
       "    </tr>\n",
       "    <tr>\n",
       "      <th>165492</th>\n",
       "      <td>carmenba06</td>\n",
       "      <td>178.0</td>\n",
       "      <td>269</td>\n",
       "      <td>0.179332</td>\n",
       "    </tr>\n",
       "    <tr>\n",
       "      <th>169670</th>\n",
       "      <td>billaeba</td>\n",
       "      <td>30.0</td>\n",
       "      <td>40</td>\n",
       "      <td>0.124939</td>\n",
       "    </tr>\n",
       "    <tr>\n",
       "      <th>113412</th>\n",
       "      <td>Amigos_VoxGU</td>\n",
       "      <td>4.0</td>\n",
       "      <td>5</td>\n",
       "      <td>0.096910</td>\n",
       "    </tr>\n",
       "  </tbody>\n",
       "</table>\n",
       "</div>"
      ],
      "text/plain": [
       "       retweeted_user_screen_name  followers_count  retweeting_users_count  \\\n",
       "198934                   e_GA1957            119.0                     234   \n",
       "303304                  New_Mode_              9.0                      16   \n",
       "165492                 carmenba06            178.0                     269   \n",
       "169670                   billaeba             30.0                      40   \n",
       "113412               Amigos_VoxGU              4.0                       5   \n",
       "\n",
       "        interactor_ratio  \n",
       "198934          0.293669  \n",
       "303304          0.249877  \n",
       "165492          0.179332  \n",
       "169670          0.124939  \n",
       "113412          0.096910  "
      ]
     },
     "execution_count": 157,
     "metadata": {},
     "output_type": "execute_result"
    },
    {
     "data": {
      "image/png": "[encoded data removed]",
      "text/plain": [
       "<Figure size 432x288 with 1 Axes>"
      ]
     },
     "metadata": {
      "needs_background": "light"
     },
     "output_type": "display_data"
    }
   ],
   "source": [
    "#Interactor Ratio\n",
    "d_followers_count = pd.Series(df_stats.followers_count.values,index = df_stats.user_screen_name).to_dict()\n",
    "d_retweeting_users_count = df_retweets.groupby(['retweeted_user_screen_name'])['user_screen_name'].nunique().to_dict()\n",
    "\n",
    "df = pd.DataFrame()\n",
    "df['retweeted_user_screen_name'] = df_retweets['retweeted_user_screen_name']\n",
    "df['followers_count'] = df_retweets.retweeted_user_screen_name.map( d_followers_count )\n",
    "df['retweeting_users_count'] = df_retweets.retweeted_user_screen_name.map( d_retweeting_users_count )\n",
    "df['interactor_ratio'] = df['retweeting_users_count'] / df['followers_count']\n",
    "df = df.replace([np.inf, -np.inf], np.nan).dropna()\n",
    "df = df.sort_values(by=['interactor_ratio'],ascending=False).drop_duplicates()\n",
    "df['interactor_ratio'] = np.log10(df['interactor_ratio'])\n",
    "df.hist('interactor_ratio')\n",
    "df.head()"
   ]
  },
  {
   "cell_type": "code",
   "execution_count": 158,
   "metadata": {},
   "outputs": [
    {
     "name": "stderr",
     "output_type": "stream",
     "text": [
      "/usr/local/lib/python2.7/dist-packages/ipykernel_launcher.py:11: RuntimeWarning: divide by zero encountered in log10\n",
      "  # This is added back by InteractiveShellApp.init_path()\n"
     ]
    },
    {
     "data": {
      "text/html": [
       "<div>\n",
       "<style scoped>\n",
       "    .dataframe tbody tr th:only-of-type {\n",
       "        vertical-align: middle;\n",
       "    }\n",
       "\n",
       "    .dataframe tbody tr th {\n",
       "        vertical-align: top;\n",
       "    }\n",
       "\n",
       "    .dataframe thead th {\n",
       "        text-align: right;\n",
       "    }\n",
       "</style>\n",
       "<table border=\"1\" class=\"dataframe\">\n",
       "  <thead>\n",
       "    <tr style=\"text-align: right;\">\n",
       "      <th></th>\n",
       "      <th>retweeted_user_screen_name</th>\n",
       "      <th>retweeted_tweets</th>\n",
       "      <th>retweeting_users</th>\n",
       "      <th>retweet_impact</th>\n",
       "    </tr>\n",
       "  </thead>\n",
       "  <tbody>\n",
       "    <tr>\n",
       "      <th>294365</th>\n",
       "      <td>eldiarioes</td>\n",
       "      <td>627</td>\n",
       "      <td>1979</td>\n",
       "      <td>3.677529</td>\n",
       "    </tr>\n",
       "    <tr>\n",
       "      <th>76064</th>\n",
       "      <td>VilaWeb</td>\n",
       "      <td>499</td>\n",
       "      <td>681</td>\n",
       "      <td>3.512585</td>\n",
       "    </tr>\n",
       "    <tr>\n",
       "      <th>267384</th>\n",
       "      <td>20m</td>\n",
       "      <td>442</td>\n",
       "      <td>907</td>\n",
       "      <td>3.478578</td>\n",
       "    </tr>\n",
       "    <tr>\n",
       "      <th>230835</th>\n",
       "      <td>el_pais</td>\n",
       "      <td>395</td>\n",
       "      <td>1226</td>\n",
       "      <td>3.448559</td>\n",
       "    </tr>\n",
       "    <tr>\n",
       "      <th>158066</th>\n",
       "      <td>okdiario</td>\n",
       "      <td>367</td>\n",
       "      <td>1335</td>\n",
       "      <td>3.421799</td>\n",
       "    </tr>\n",
       "  </tbody>\n",
       "</table>\n",
       "</div>"
      ],
      "text/plain": [
       "       retweeted_user_screen_name  retweeted_tweets  retweeting_users  \\\n",
       "294365                 eldiarioes               627              1979   \n",
       "76064                     VilaWeb               499               681   \n",
       "267384                        20m               442               907   \n",
       "230835                    el_pais               395              1226   \n",
       "158066                   okdiario               367              1335   \n",
       "\n",
       "        retweet_impact  \n",
       "294365        3.677529  \n",
       "76064         3.512585  \n",
       "267384        3.478578  \n",
       "230835        3.448559  \n",
       "158066        3.421799  "
      ]
     },
     "execution_count": 158,
     "metadata": {},
     "output_type": "execute_result"
    },
    {
     "data": {
      "image/png": "[encoded data removed]",
      "text/plain": [
       "<Figure size 432x288 with 1 Axes>"
      ]
     },
     "metadata": {
      "needs_background": "light"
     },
     "output_type": "display_data"
    }
   ],
   "source": [
    "#Retweet Impact\n",
    "d_retweeted_tweets = df_retweets.groupby(['retweeted_user_screen_name'])['retweeted_status_id'].nunique().to_dict()\n",
    "d_retweeting_users = df_retweets.groupby(['retweeted_user_screen_name'])['user_screen_name'].nunique().to_dict()\n",
    "\n",
    "df = pd.DataFrame()\n",
    "df['retweeted_user_screen_name'] = df_retweets['retweeted_user_screen_name']\n",
    "df['retweeted_tweets'] = df_retweets.retweeted_user_screen_name.map( d_retweeted_tweets )\n",
    "df['retweeting_users'] = df_retweets.retweeted_user_screen_name.map( d_retweeting_users )\n",
    "df['retweet_impact'] = df['retweeted_tweets'] * np.log(df['retweeting_users'])\n",
    "df = df.sort_values(by=['retweet_impact'],ascending=False).drop_duplicates()\n",
    "df['retweet_impact'] = np.log10(df['retweet_impact'])\n",
    "df = df.replace([np.inf, -np.inf], np.nan).dropna()\n",
    "df.hist('retweet_impact')\n",
    "df.head()"
   ]
  },
  {
   "cell_type": "code",
   "execution_count": 138,
   "metadata": {},
   "outputs": [
    {
     "data": {
      "text/html": [
       "<div>\n",
       "<style scoped>\n",
       "    .dataframe tbody tr th:only-of-type {\n",
       "        vertical-align: middle;\n",
       "    }\n",
       "\n",
       "    .dataframe tbody tr th {\n",
       "        vertical-align: top;\n",
       "    }\n",
       "\n",
       "    .dataframe thead th {\n",
       "        text-align: right;\n",
       "    }\n",
       "</style>\n",
       "<table border=\"1\" class=\"dataframe\">\n",
       "  <thead>\n",
       "    <tr style=\"text-align: right;\">\n",
       "      <th></th>\n",
       "      <th>retweeted_status_id</th>\n",
       "      <th>count</th>\n",
       "    </tr>\n",
       "  </thead>\n",
       "  <tbody>\n",
       "    <tr>\n",
       "      <th>29583</th>\n",
       "      <td>1243296016780189705</td>\n",
       "      <td>914</td>\n",
       "    </tr>\n",
       "    <tr>\n",
       "      <th>90504</th>\n",
       "      <td>1245429035129352193</td>\n",
       "      <td>880</td>\n",
       "    </tr>\n",
       "    <tr>\n",
       "      <th>106528</th>\n",
       "      <td>1246137982861574144</td>\n",
       "      <td>660</td>\n",
       "    </tr>\n",
       "    <tr>\n",
       "      <th>56002</th>\n",
       "      <td>1244228932314030081</td>\n",
       "      <td>605</td>\n",
       "    </tr>\n",
       "    <tr>\n",
       "      <th>109771</th>\n",
       "      <td>1246360181161615360</td>\n",
       "      <td>581</td>\n",
       "    </tr>\n",
       "  </tbody>\n",
       "</table>\n",
       "</div>"
      ],
      "text/plain": [
       "        retweeted_status_id  count\n",
       "29583   1243296016780189705    914\n",
       "90504   1245429035129352193    880\n",
       "106528  1246137982861574144    660\n",
       "56002   1244228932314030081    605\n",
       "109771  1246360181161615360    581"
      ]
     },
     "execution_count": 138,
     "metadata": {},
     "output_type": "execute_result"
    }
   ],
   "source": [
    "#influence: number of retweets per item\n",
    "\n",
    "d = defaultdict(list)\n",
    "df = pd.read_csv(retweets)\n",
    "#retweeted_status_id = original tweet\n",
    "#status_id = retweet\n",
    "df.groupby(['retweeted_status_id'])['status_id'].count().reset_index(name='count').sort_values(['count'], ascending=False).head()"
   ]
  },
  {
   "cell_type": "code",
   "execution_count": 6,
   "metadata": {},
   "outputs": [
    {
     "data": {
      "text/plain": [
       "(438293, 4)"
      ]
     },
     "execution_count": 6,
     "metadata": {},
     "output_type": "execute_result"
    }
   ],
   "source": [
    "#influence: AUC of sentiment as a function of distance in the network\n",
    "\n",
    "cols = ['type','status','original','sentiment']\n",
    "\n",
    "df_replies = pd.read_csv(replies)\n",
    "df_replies = df_replies[['status_type','status_id','in_reply_to_status_id','status_sentiment']]\n",
    "df_replies.columns = cols\n",
    "\n",
    "df_retweets = pd.read_csv(retweets)\n",
    "df_retweets = df_retweets[['status_type','status_id','retweeted_status_id','status_sentiment']]\n",
    "df_retweets.columns = cols\n",
    "\n",
    "df_quotes = pd.read_csv(quotes)\n",
    "df_quotes = df_quotes[['status_type','status_id','quoted_status_id','status_sentiment']]\n",
    "df_quotes.columns = cols\n",
    "\n",
    "df = pd.concat([df_replies,df_retweets,df_quotes]).drop_duplicates().reset_index(drop=True)\n",
    "df.shape"
   ]
  },
  {
   "cell_type": "code",
   "execution_count": 7,
   "metadata": {},
   "outputs": [
    {
     "name": "stdout",
     "output_type": "stream",
     "text": [
      "Name: \n",
      "Type: DiGraph\n",
      "Number of nodes: 583919\n",
      "Number of edges: 438293\n",
      "Average in degree:   0.7506\n",
      "Average out degree:   0.7506\n",
      "\n",
      "('Number of weakly connected components:', 145626)\n",
      "Largest weakly connected component:\n",
      "Name: \n",
      "Type: DiGraph\n",
      "Number of nodes: 1205\n",
      "Number of edges: 1204\n",
      "Average in degree:   0.9992\n",
      "Average out degree:   0.9992\n",
      "\n"
     ]
    }
   ],
   "source": [
    "G = nx.from_pandas_edgelist(\n",
    "    df,source='status',target='original',\n",
    "    edge_attr=['type','sentiment'],create_using=nx.DiGraph())\n",
    "\n",
    "print(nx.info(G))\n",
    "print('')\n",
    "\n",
    "#print('Number of strongly connected components:',nx.number_strongly_connected_components(G))\n",
    "#print('Largest strongly connected component:')\n",
    "#G_strong = max(nx.strongly_connected_component_subgraphs(G), key=len)\n",
    "#print(nx.info(G_strong))\n",
    "#print('')\n",
    "\n",
    "print('Number of weakly connected components:',nx.number_weakly_connected_components(G))\n",
    "print('Largest weakly connected component:')\n",
    "G_weakly = max(nx.weakly_connected_component_subgraphs(G), key=len)\n",
    "print(nx.info(G_weakly))\n",
    "print('')"
   ]
  },
  {
   "cell_type": "code",
   "execution_count": 30,
   "metadata": {},
   "outputs": [
    {
     "name": "stdout",
     "output_type": "stream",
     "text": [
      "2\n",
      "3\n",
      "4\n",
      "4\n",
      "{2: 105118, 3: 482, 4: 10}\n"
     ]
    }
   ],
   "source": [
    "l = 0\n",
    "d = {}\n",
    "for Gi in nx.weakly_connected_components(G):\n",
    "    for combo in combinations(Gi, 2):\n",
    "        for path in nx.all_simple_paths(G, source=combo[0], target=combo[1]):\n",
    "            lst.append(len(path))\n",
    "            try:\n",
    "                d[len(path)] += 1\n",
    "            except:\n",
    "                d[len(path)] = 1\n",
    "            if len(path) > l:\n",
    "                l = len(path)\n",
    "                print(l)\n",
    "            \n",
    "print(max(lst))\n",
    "print(d)"
   ]
  },
  {
   "cell_type": "code",
   "execution_count": 264,
   "metadata": {},
   "outputs": [
    {
     "name": "stdout",
     "output_type": "stream",
     "text": [
      "[[u'Alicante'], [u'Barcelona'], [u'Madrid'], [u'Sevilla'], [u'Valencia'], [u'Val\\xe9ncia'], [u'Albacete'], [u'Almer\\xeda'], [u'Asturias'], [u'\\xc1vila'], [u'Badajoz'], [u'Cantabria'], [u'Burgos'], [u'C\\xe1ceres'], [u'Ceuta'], u'A', u' ', u'C', u'o', u'r', u'u', u'\\xf1', u'a', [u'C\\xf3rdoba'], [u'Ciudad Real'], [u'Castell\\xf3n'], [u'Castell\\xf3'], [u'Cuenca'], [u'C\\xe1diz'], u'L', u'a', u's', u' ', u'P', u'a', u'l', u'm', u'a', u's', [u'Girona'], [u'Gipuzkoa'], [u'Granada'], [u'Guadalajara'], [u'Huesca'], [u'Huelva'], [u'Ja\\xe9n'], [u'Le\\xf3n'], [u'Lleida'], u'L', u'a', u' ', u'R', u'i', u'o', u'j', u'a', [u'Lugo'], [u'M\\xe1laga'], [u'Melilla'], [u'Murcia'], [u'Navarra'], [u'Ourense'], [u'Palencia'], [u'Pontevedra'], [u'Salamanca'], [u'Segovia'], [u'Soria'], [u'Tarragona'], [u'Teruel'], [u'Santa Cruz de Tenerife'], [u'Toledo'], [u'Valladolid'], [u'Araba'], [u'\\xc1lava'], [u'Zamora'], [u'Bizkaia'], [u'Zaragoza'], u'I', u'l', u'l', u'e', u's', u' ', u'B', u'a', u'l', u'e', u'a', u'r', u's']\n"
     ]
    }
   ],
   "source": [
    "#search comunidades autonomas in the tweet text\n",
    "\n",
    "ca = '../../sna/extras/ID_GRUPOS_con_COMUNIDAD_AUTONOMA.txt'\n",
    "df = pd.read_csv(ca, sep='\\t', encoding='utf-8')\n",
    "lst  =[]\n",
    "for i in df['NPRO'].unique():\n",
    "    for j in i.split('/'):\n",
    "        k = j.split(', ')\n",
    "        try:\n",
    "            lst.append(' '.join([k[1],k[0]]))\n",
    "        except:\n",
    "            lst.append(k)\n",
    "\n",
    "text = '../../sna/graphs/davide.es_tweets.text.080420.tsv'\n",
    "df_text = pd.read_csv(text,sep='\\t', encoding='utf-8')\n",
    "df_text = df_text.dropna()\n",
    "df_text['text'] = [ i.encode('ascii', 'ignore').decode('ascii') for i in df_text['text'] ]\n",
    "df_text['text'] = [ re.sub(r'^https?:\\/\\/.*[\\r\\n]*', '', str(i), flags=re.MULTILINE) for i in df_text['text'] ]\n",
    "df_text = df_text.reset_index(drop=True)\n",
    "\n",
    "#a = []\n",
    "#for tweet in df_text['text']:\n",
    "#    a.append(lst[0] in tweet)\n",
    "print(lst)"
   ]
  }
 ],
 "metadata": {
  "kernelspec": {
   "display_name": "Python 2",
   "language": "python",
   "name": "python2"
  },
  "language_info": {
   "codemirror_mode": {
    "name": "ipython",
    "version": 2
   },
   "file_extension": ".py",
   "mimetype": "text/x-python",
   "name": "python",
   "nbconvert_exporter": "python",
   "pygments_lexer": "ipython2",
   "version": "2.7.6"
  }
 },
 "nbformat": 4,
 "nbformat_minor": 2
}
