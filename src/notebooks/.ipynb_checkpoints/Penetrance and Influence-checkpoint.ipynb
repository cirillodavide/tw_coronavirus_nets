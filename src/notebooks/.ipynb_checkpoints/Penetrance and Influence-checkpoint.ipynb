{
 "cells": [
  {
   "cell_type": "code",
   "execution_count": 30,
   "metadata": {},
   "outputs": [],
   "source": [
    "import pandas as pd\n",
    "import networkx as nx\n",
    "\n",
    "from collections import defaultdict"
   ]
  },
  {
   "cell_type": "code",
   "execution_count": 31,
   "metadata": {},
   "outputs": [],
   "source": [
    "retweets = '../../sna/graphs/retweets_040420.csv'\n",
    "replies = '../../sna/graphs/replies_040420.csv'\n",
    "quotes = '../../sna/graphs/quotes_040420.csv'"
   ]
  },
  {
   "cell_type": "code",
   "execution_count": 32,
   "metadata": {},
   "outputs": [
    {
     "data": {
      "text/html": [
       "<div>\n",
       "<style scoped>\n",
       "    .dataframe tbody tr th:only-of-type {\n",
       "        vertical-align: middle;\n",
       "    }\n",
       "\n",
       "    .dataframe tbody tr th {\n",
       "        vertical-align: top;\n",
       "    }\n",
       "\n",
       "    .dataframe thead th {\n",
       "        text-align: right;\n",
       "    }\n",
       "</style>\n",
       "<table border=\"1\" class=\"dataframe\">\n",
       "  <thead>\n",
       "    <tr style=\"text-align: right;\">\n",
       "      <th></th>\n",
       "      <th>retweeted_status_id</th>\n",
       "      <th>count</th>\n",
       "    </tr>\n",
       "  </thead>\n",
       "  <tbody>\n",
       "    <tr>\n",
       "      <th>29583</th>\n",
       "      <td>1243296016780189705</td>\n",
       "      <td>914</td>\n",
       "    </tr>\n",
       "    <tr>\n",
       "      <th>90504</th>\n",
       "      <td>1245429035129352193</td>\n",
       "      <td>880</td>\n",
       "    </tr>\n",
       "    <tr>\n",
       "      <th>106528</th>\n",
       "      <td>1246137982861574144</td>\n",
       "      <td>660</td>\n",
       "    </tr>\n",
       "    <tr>\n",
       "      <th>56002</th>\n",
       "      <td>1244228932314030081</td>\n",
       "      <td>605</td>\n",
       "    </tr>\n",
       "    <tr>\n",
       "      <th>109771</th>\n",
       "      <td>1246360181161615360</td>\n",
       "      <td>581</td>\n",
       "    </tr>\n",
       "  </tbody>\n",
       "</table>\n",
       "</div>"
      ],
      "text/plain": [
       "        retweeted_status_id  count\n",
       "29583   1243296016780189705    914\n",
       "90504   1245429035129352193    880\n",
       "106528  1246137982861574144    660\n",
       "56002   1244228932314030081    605\n",
       "109771  1246360181161615360    581"
      ]
     },
     "execution_count": 32,
     "metadata": {},
     "output_type": "execute_result"
    }
   ],
   "source": [
    "#penetrance: number of retweets per item\n",
    "\n",
    "d = defaultdict(list)\n",
    "df = pd.read_csv(retweets)\n",
    "#retweeted_status_id = original tweet\n",
    "#status_id = retweet\n",
    "df.groupby(['retweeted_status_id'])['status_id'].count().reset_index(name='count').sort_values(['count'], ascending=False).head()"
   ]
  },
  {
   "cell_type": "code",
   "execution_count": 51,
   "metadata": {},
   "outputs": [
    {
     "data": {
      "text/plain": [
       "(438293, 4)"
      ]
     },
     "execution_count": 51,
     "metadata": {},
     "output_type": "execute_result"
    }
   ],
   "source": [
    "#influence: AUC of sentiment as a function of distance in the network\n",
    "\n",
    "cols = ['type','status','from','sentiment']\n",
    "\n",
    "df_replies = pd.read_csv(replies)\n",
    "df_replies = df_replies[['status_type','status_id','in_reply_to_status_id','status_sentiment']]\n",
    "df_replies.columns = cols\n",
    "\n",
    "df_retweets = pd.read_csv(retweets)\n",
    "df_retweets = df_retweets[['status_type','status_id','retweeted_status_id','status_sentiment']]\n",
    "df_retweets.columns = cols\n",
    "\n",
    "df_quotes = pd.read_csv(quotes)\n",
    "df_quotes = df_quotes[['status_type','status_id','quoted_status_id','status_sentiment']]\n",
    "df_quotes.columns = cols\n",
    "\n",
    "df = pd.concat([df_replies,df_retweets,df_quotes]).drop_duplicates().reset_index(drop=True)\n",
    "df.shape"
   ]
  },
  {
   "cell_type": "code",
   "execution_count": null,
   "metadata": {},
   "outputs": [],
   "source": []
  }
 ],
 "metadata": {
  "kernelspec": {
   "display_name": "Python 2",
   "language": "python",
   "name": "python2"
  },
  "language_info": {
   "codemirror_mode": {
    "name": "ipython",
    "version": 2
   },
   "file_extension": ".py",
   "mimetype": "text/x-python",
   "name": "python",
   "nbconvert_exporter": "python",
   "pygments_lexer": "ipython2",
   "version": "2.7.6"
  }
 },
 "nbformat": 4,
 "nbformat_minor": 2
}
